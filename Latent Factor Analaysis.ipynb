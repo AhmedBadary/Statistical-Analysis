{
 "cells": [
  {
   "cell_type": "markdown",
   "metadata": {},
   "source": [
    "## Imports"
   ]
  },
  {
   "cell_type": "code",
   "execution_count": 3,
   "metadata": {
    "collapsed": true
   },
   "outputs": [],
   "source": [
    "import scipy.io as sio\n",
    "import numpy as np\n",
    "import sklearn\n",
    "import matplotlib.image as mpimg\n",
    "from matplotlib import pyplot as plt\n",
    "from skimage.io import imread\n",
    "from scipy import stats\n",
    "%matplotlib inline"
   ]
  },
  {
   "cell_type": "markdown",
   "metadata": {},
   "source": [
    "## Load the Data [Images]"
   ]
  },
  {
   "cell_type": "code",
   "execution_count": null,
   "metadata": {
    "collapsed": false
   },
   "outputs": [],
   "source": [
    "# Load Data Here"
   ]
  },
  {
   "cell_type": "markdown",
   "metadata": {},
   "source": [
    "## Code"
   ]
  },
  {
   "cell_type": "markdown",
   "metadata": {},
   "source": [
    "### Helper Functions"
   ]
  },
  {
   "cell_type": "code",
   "execution_count": 5,
   "metadata": {
    "collapsed": true
   },
   "outputs": [],
   "source": [
    "def plot(im, img, k=0, image=False, ylabel='', xlabel='', axis=False):\n",
    "    if image:\n",
    "        fig = plt.figure()\n",
    "        a=fig.add_subplot(1,2,1)\n",
    "        imgplot = plt.imshow(im,cmap='gray')\n",
    "        a.set_title('Before')\n",
    "        a=fig.add_subplot(1,2,2)\n",
    "        imgplot = plt.imshow(img, cmap='gray')\n",
    "        a.set_title(\"After [k = \"+str(k)+\"]\")\n",
    "    else:\n",
    "        plt.plot(im, img, 'ro')\n",
    "        if type(axis) != bool:\n",
    "            plt.axis(axis)\n",
    "        plt.ylabel(ylabel)\n",
    "        plt.xlabel(xlabel)\n",
    "        plt.show()\n",
    "        \n",
    "def make_val_set(V):\n",
    "    M = np.empty((100, 100))\n",
    "    M[:] = np.NAN\n",
    "    for x in V:\n",
    "        i = x[0] - 1\n",
    "        j = x[1] - 1 \n",
    "        M[i][j] = x[2]\n",
    "    return M\n",
    "\n",
    "def make_pred_2(M):\n",
    "    G = np.zeros(M.shape)\n",
    "    for i in range(len(M)):\n",
    "        if M[i] >= 0:\n",
    "            G[i] = 1\n",
    "    return G\n",
    "\n",
    "def make_pred(M):\n",
    "    G = np.zeros(M.shape)\n",
    "    for i in range(len(M)):\n",
    "        for j in range(M.shape[1]):\n",
    "            if M[i][j] >= 0:\n",
    "                G[i][j] = 1\n",
    "    return G\n",
    "\n",
    "def check(X, P):\n",
    "    score = 0\n",
    "    total = 0\n",
    "    for i in range(len(X)):\n",
    "        for j in range(X.shape[1]):\n",
    "            if np.isnan(X[i][j]):\n",
    "                continue\n",
    "            else:\n",
    "                total += 1\n",
    "                if X[i][j] == P[i][j]:\n",
    "                    score += 1\n",
    "    return score/total"
   ]
  },
  {
   "cell_type": "markdown",
   "metadata": {},
   "source": [
    "## Low-Rank Approximation"
   ]
  },
  {
   "cell_type": "markdown",
   "metadata": {},
   "source": [
    "### Method 1: Using the Singular Value Decomposition"
   ]
  },
  {
   "cell_type": "code",
   "execution_count": 6,
   "metadata": {
    "collapsed": true
   },
   "outputs": [],
   "source": [
    "def k_apps(M, k):\n",
    "    U, s, V = np.linalg.svd(M, full_matrices=False)\n",
    "    S = np.zeros((len(s), len(s)))\n",
    "    S[:k, :k] = np.diag(s[:k])\n",
    "    return U, np.dot(S,V)\n",
    "\n",
    "def train(X, GG, iterations= 100, k=9, _lambda=62 ):\n",
    "    not_nan = np.argwhere(1 - np.isnan(X.flat))\n",
    "    scores = []\n",
    "    U, V = k_apps(np.nan_to_num(X), 9)\n",
    "    M = np.dot(U, V)\n",
    "    X_0 = np.nan_to_num(X)\n",
    "    for i in range(iterations):\n",
    "        M_0 = M\n",
    "        np.put(M_0, not_nan, 0)\n",
    "        X_star = X_0 + M_0\n",
    "        U, S, V = k_apps_2(X_star, k = k)\n",
    "        S_th = np.clip(S, -0.5*_lambda, 0.5*_lambda)\n",
    "        M = np.dot(U, np.dot((S+S_th),V))\n",
    "        scores.append(check(GG, make_pred(M[:100])))\n",
    "    return M, scores"
   ]
  },
  {
   "cell_type": "markdown",
   "metadata": {},
   "source": [
    "### Method 2: Minimizing the Squared Error using Coordinate Descent"
   ]
  },
  {
   "cell_type": "markdown",
   "metadata": {},
   "source": [
    "#### Why?"
   ]
  },
  {
   "cell_type": "raw",
   "metadata": {},
   "source": [
    "Notice that when the design matrix is sparse, it makes little sense to replace missing values by \n",
    "a single value (e.g. the mean). Thus, we minimize the squared-error on the entries that do exist\n",
    "in the design matrix based on the following loss function:"
   ]
  },
  {
   "cell_type": "code",
   "execution_count": 16,
   "metadata": {
    "collapsed": false
   },
   "outputs": [
    {
     "data": {
      "image/png": "[encoded data removed]",
      "text/plain": [
       "<matplotlib.figure.Figure at 0x111423128>"
      ]
     },
     "metadata": {},
     "output_type": "display_data"
    }
   ],
   "source": []
  },
  {
   "cell_type": "code",
   "execution_count": 17,
   "metadata": {
    "collapsed": true
   },
   "outputs": [],
   "source": [
    "def k_apps_2(M, k):\n",
    "    U, s, V = np.linalg.svd(M, full_matrices=False)\n",
    "    S = np.zeros((len(s), len(s)))\n",
    "    S[:k, :k] = np.diag(s[:k])\n",
    "    return U, S, V\n",
    "\n",
    "def train_it(X, _iter=10):\n",
    "    out_v = []\n",
    "    _S = np.isfinite(X)\n",
    "    U, V = k_apps(np.nan_to_num(X), 10)\n",
    "    for j in range(len(U)):\n",
    "        out_v.append(np.outer(U[j], U[j]))\n",
    "    out_u = []\n",
    "    for j in range(len(V)):\n",
    "        out_u.append(np.outer(V[j], V[j]))\n",
    "    for i in range(_iter):\n",
    "        # U\n",
    "        for k in range(len(U)):\n",
    "            f = sum([out_u[j] for j in range(len(V)) if _S[k,j]])\n",
    "            f += _lambda*np.eye(len(f))\n",
    "            s = sum([V[j]*X[k,j] for j in range(len(V)) if _S[k,j]])\n",
    "            U[k] = np.linalg.inv(f).dot(s)\n",
    "\n",
    "        # V\n",
    "        for k in range(len(V)):\n",
    "            f = sum([out_v[j] for j in range(len(U)) if _S[j,k]])\n",
    "            f += _lambda*np.eye(len(f))\n",
    "            s = sum([U[j]*X[j,k] for j in range(len(U)) if _S[j,k]])\n",
    "            V[k] = np.linalg.inv(f).dot(s)\n",
    "    return np.dot(U,V)"
   ]
  },
  {
   "cell_type": "markdown",
   "metadata": {},
   "source": [
    "## Visualizing"
   ]
  }
 ],
 "metadata": {
  "anaconda-cloud": {},
  "kernelspec": {
   "display_name": "Python [conda root]",
   "language": "python",
   "name": "conda-root-py"
  },
  "language_info": {
   "codemirror_mode": {
    "name": "ipython",
    "version": 3
   },
   "file_extension": ".py",
   "mimetype": "text/x-python",
   "name": "python",
   "nbconvert_exporter": "python",
   "pygments_lexer": "ipython3",
   "version": "3.5.2"
  }
 },
 "nbformat": 4,
 "nbformat_minor": 1
}
