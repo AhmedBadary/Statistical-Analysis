{
 "cells": [
  {
   "cell_type": "markdown",
   "metadata": {},
   "source": [
    "## Imports"
   ]
  },
  {
   "cell_type": "code",
   "execution_count": 1,
   "metadata": {
    "collapsed": true
   },
   "outputs": [],
   "source": [
    "import numpy as np, scipy.io as sio, sklearn\n",
    "from matplotlib import pyplot as plt\n",
    "from math import e, log\n",
    "from sklearn.metrics import classification_report\n",
    "from sklearn.model_selection import train_test_split\n",
    "from sys import maxsize\n",
    "from scipy import stats\n",
    "import scipy\n",
    "from scipy.special import expit"
   ]
  },
  {
   "cell_type": "markdown",
   "metadata": {},
   "source": [
    "## Load the Data [Images]"
   ]
  },
  {
   "cell_type": "code",
   "execution_count": 2,
   "metadata": {
    "collapsed": false
   },
   "outputs": [],
   "source": [
    "# Load Data Here"
   ]
  },
  {
   "cell_type": "markdown",
   "metadata": {},
   "source": [
    "## CODE"
   ]
  },
  {
   "cell_type": "markdown",
   "metadata": {},
   "source": [
    "### Neural Network"
   ]
  },
  {
   "cell_type": "code",
   "execution_count": 6,
   "metadata": {
    "collapsed": true
   },
   "outputs": [],
   "source": [
    "class Neural_Network():\n",
    "    def __init__(self):\n",
    "        self.input_layer = 784\n",
    "        self.hidden_layer = 200\n",
    "        self.output_layer = 26\n",
    "\n",
    "        self.V = np.random.randn(self.hidden_layer, self.input_layer + 1)\n",
    "        self.W = np.random.randn(self.output_layer, self.hidden_layer + 1)\n",
    "\n",
    "    def for_pass(self, X): # X.shape = (785, 1)\n",
    "        self.Z1 = np.dot(self.V, X)\n",
    "        self.h = tanh(self.Z1)\n",
    "        self.h = self.h.reshape((1, 200))\n",
    "        _h = np.insert(self.h, self.h.shape[1], 1, axis=1)\n",
    "        _h = _h.reshape((201, 1))\n",
    "        self._h = _h\n",
    "        self.h = self.h.reshape((200, 1))\n",
    "        self.Z2 = np.dot(self.W, _h)\n",
    "        Z = softmax(self.Z2)\n",
    "        return np.array(Z)\n",
    "    \n",
    "    def back_pass(self, X, y, _lambda=10**-5, batch=False):\n",
    "        if batch:\n",
    "            self.Z = self.for_pass(X)\n",
    "            once = np.dot(self.W.T, self.Z)\n",
    "            print(\"z\", self.Z.shape)\n",
    "            print(\"y\", y.shape)\n",
    "            A = (self.Z * np.sum(y.T, axis = 1).reshape((y.shape[1]), 1)) - y.T\n",
    "            print(\"A\", A.shape)\n",
    "            A = A.T\n",
    "            W_error = A[np.newaxis,...].T * self._h.T[np.newaxis,...]\n",
    "            W_error = np.sum(W_error, axis=2)\n",
    "            print(\"W_error\", W_error.shape)\n",
    "\n",
    "            f = (np.sum(y, axis = 1).reshape(len(y), 1) * once.T)\n",
    "            s = (np.dot(self.W.T, y.T))\n",
    "            errv = (f - s) * (1 - self._h**2)\n",
    "            V_error = np.dot(errv, X.T)\n",
    "            W_error, V_error = W_error, V_error           \n",
    "            return W_error, V_error\n",
    "\n",
    "        self.Z = self.for_pass(X)\n",
    "        once = np.dot(self.W.T, self.Z)\n",
    "        W_error = np.dot( ((self.Z * np.sum(y)) - y.reshape(26,1)), self._h.T ) + 2*_lambda*self.W\n",
    "\n",
    "        f = (np.sum(y) * once)\n",
    "        s = (np.dot(self.W.T, y)).reshape(201, 1)\n",
    "        errv = (f - s) * (1 - self._h**2)\n",
    "        V_error = np.dot(errv, X.reshape((1,785)))\n",
    "        \n",
    "        return W_error, V_error\n",
    "    \n",
    "    def predict(self, X):\n",
    "        p = []\n",
    "        for x in X:\n",
    "            Z = N.for_pass(x.reshape((785,1)))\n",
    "            p.append(np.argmax(Z))\n",
    "        return np.array(p)\n",
    "    \n",
    "    def SGD(self, X, y, _epsislon=10**-3.4, num_iterations=100, epochs=1, batch=False, size=100):\n",
    "        for e in range(epochs):\n",
    "            i = 0\n",
    "            W, V = self.W, self.V\n",
    "\n",
    "            if batch:\n",
    "                for j in range(1, num_iterations):  \n",
    "                    x = (X[size*(j-1):size*j]).T\n",
    "                    y_t = y[size*(j-1):size*j]\n",
    "                    errw, errv = self.back_pass(x, y_t, batch=True)\n",
    "\n",
    "                    correctionW = (_epsislon*errw)\n",
    "                    correctionV = (_epsislon*errv)\n",
    "                    W = W - correctionW\n",
    "                    V = V - correctionV[:-1]\n",
    "                self.V = V\n",
    "                self.W = W\n",
    "            for j in range(num_iterations):\n",
    "                x = X[j]\n",
    "                y_t = y[j]\n",
    "                x = np.array(x)\n",
    "\n",
    "                errw, errv = self.back_pass(x, y_t)\n",
    "\n",
    "                correctionW = (_epsislon*errw)\n",
    "                correctionV = (_epsislon*errv)\n",
    "                W = W - correctionW\n",
    "                V = V - correctionV[:-1]\n",
    "            self.V = V\n",
    "            self.W = W"
   ]
  },
  {
   "cell_type": "markdown",
   "metadata": {},
   "source": [
    "###    COST FUNCTIONS:"
   ]
  },
  {
   "cell_type": "code",
   "execution_count": 8,
   "metadata": {
    "collapsed": true
   },
   "outputs": [],
   "source": [
    "def tanh(x):\n",
    "    return np.tanh(x)\n",
    "\n",
    "def dtanh(x):\n",
    "    return 1.0 - np.tanh(x)**2\n",
    "\n",
    "def L(Z, y):\n",
    "    return y[i] * np.log(Z[i])\n",
    "\n",
    "def J(h, y):\n",
    "    sum = 0\n",
    "    for i in range(len(h)):\n",
    "        sum += L(h[i], y[i])\n",
    "    return sum\n",
    "\n",
    "def softmax(x):\n",
    "    z = np.exp(x) / np.sum(np.exp(x), axis=0)\n",
    "    return z"
   ]
  },
  {
   "cell_type": "markdown",
   "metadata": {},
   "source": [
    "## Visualizing"
   ]
  }
 ],
 "metadata": {
  "anaconda-cloud": {},
  "kernelspec": {
   "display_name": "Python [conda root]",
   "language": "python",
   "name": "conda-root-py"
  },
  "language_info": {
   "codemirror_mode": {
    "name": "ipython",
    "version": 3
   },
   "file_extension": ".py",
   "mimetype": "text/x-python",
   "name": "python",
   "nbconvert_exporter": "python",
   "pygments_lexer": "ipython3",
   "version": "3.5.2"
  }
 },
 "nbformat": 4,
 "nbformat_minor": 1
}
