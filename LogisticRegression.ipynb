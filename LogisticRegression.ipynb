{
 "cells": [
  {
   "cell_type": "markdown",
   "metadata": {},
   "source": [
    "## Imports"
   ]
  },
  {
   "cell_type": "code",
   "execution_count": 1,
   "metadata": {
    "collapsed": true
   },
   "outputs": [],
   "source": [
    "import scipy.io as sio\n",
    "import numpy as np\n",
    "from matplotlib import pyplot as plt\n",
    "from math import e\n",
    "from math import log\n",
    "from sklearn.metrics import classification_report"
   ]
  },
  {
   "cell_type": "markdown",
   "metadata": {},
   "source": [
    "## Load the Data [Images]"
   ]
  },
  {
   "cell_type": "code",
   "execution_count": 2,
   "metadata": {
    "collapsed": false
   },
   "outputs": [],
   "source": [
    "# Load Data Here"
   ]
  },
  {
   "cell_type": "markdown",
   "metadata": {},
   "source": [
    "## CODE"
   ]
  },
  {
   "cell_type": "markdown",
   "metadata": {},
   "source": [
    "### Classifier Class"
   ]
  },
  {
   "cell_type": "code",
   "execution_count": 3,
   "metadata": {
    "collapsed": true
   },
   "outputs": [],
   "source": [
    "sigmoid = lambda points: [(1/(1+e**(-pt))) for pt in points]\n",
    "class classifier:\n",
    "    def __init__(self, method, weights):\n",
    "        self.method = method\n",
    "        self.weights = weights\n",
    "    \n",
    "    def predict_probs(self, points):\n",
    "        pred = [self.method([np.dot(pt, self.weights) + self.weights[-1:]]) for pt in points]\n",
    "        return pred\n",
    "    \n",
    "    def predict_classes(self, points):\n",
    "        pred = [self.method([np.dot(pt, self.weights[:-1])]) for pt in points]\n",
    "        _p = []\n",
    "        for pt in pred:\n",
    "            if pt[0][0] < 0.5:\n",
    "                _p.append(0)\n",
    "            elif pt[0][0] > 0.5 and pt[0][0] < 1.01:\n",
    "                _p.append(1)\n",
    "        return _p"
   ]
  },
  {
   "cell_type": "markdown",
   "metadata": {},
   "source": [
    "## MINIMIZATION"
   ]
  },
  {
   "cell_type": "markdown",
   "metadata": {},
   "source": [
    "### (STOCHASTIC) GRADIENT DESCENT"
   ]
  },
  {
   "cell_type": "code",
   "execution_count": 4,
   "metadata": {
    "collapsed": false
   },
   "outputs": [],
   "source": [
    "def GD(X, y, _epsislon, _lambda, num_iterations, stochastic=False):\n",
    "    old_val, w, i = np.zeros((13,1)), np.zeros((13,1)), 0\n",
    "    same = []\n",
    "    if stochastic == True:\n",
    "        points = [pt for pt in X]\n",
    "        classes = [cls for cls in y]\n",
    "        up = len(points) // 50\n",
    "        for j in range(up):\n",
    "            x = np.array(X[:(up // 2)])\n",
    "            y = np.array(y[:(up // 2)])\n",
    "            while i < num_iterations:\n",
    "                dt_p = np.dot(x, w)\n",
    "                correction = np.dot(x.T, (y - sigmoid(dt_p)))\n",
    "                correction = (_epsislon*correction + 2*_lambda*w)\n",
    "                w += correction \n",
    "                i+=1\n",
    "    else:\n",
    "        while i < num_iterations:\n",
    "            dt_p = np.dot(X, w)\n",
    "            correction = np.dot((X.T), (y - sigmoid(dt_p)))\n",
    "            correction = (_epsislon/(i+1))*correction + 2*_lambda*w\n",
    "            w += correction \n",
    "            i+=1\n",
    "    return w\n",
    "\n",
    "def SGD(X, y, _epsislon, _lambda, num_iterations):\n",
    "    return GD(X, y, _epsislon, _lambda, num_iterations, stochastic=True)"
   ]
  },
  {
   "cell_type": "markdown",
   "metadata": {},
   "source": [
    "### LOGISTIC REGRESSION"
   ]
  },
  {
   "cell_type": "code",
   "execution_count": 5,
   "metadata": {
    "collapsed": true
   },
   "outputs": [],
   "source": [
    "def logistic_regression(data, opt_method, _epsilon, _lambda, num_iter):\n",
    "    X = data['X']\n",
    "    X = add_dim(X)\n",
    "    y = data['y']\n",
    "    weights = opt_method(X, y, _epsilon, _lambda, num_iter)\n",
    "    _classifier = classifier(sigmoid, weights)\n",
    "    return _classifier"
   ]
  },
  {
   "cell_type": "markdown",
   "metadata": {},
   "source": [
    "### Helper Functions"
   ]
  },
  {
   "cell_type": "code",
   "execution_count": 6,
   "metadata": {
    "collapsed": true
   },
   "outputs": [],
   "source": [
    "sigmoid = lambda points: [(1/(1+e**(-pt))) for pt in points]\n",
    "\n",
    "def test_clf(predicted, true):\n",
    "    score = 0\n",
    "    for i in range(len(predicted)):\n",
    "        if predicted[i] == true[i]:\n",
    "            score+=1\n",
    "    if (score/len(predicted)) >= 0.93:\n",
    "        print(\"SUCCESS!\")\n",
    "    else:\n",
    "        print(\"FAILURE...\")\n",
    "    return score/len(predicted)\n",
    "\n",
    "def add_dim(X):\n",
    "    N = np.zeros((6000,13), float)    \n",
    "    #for i in range(len(X)):\n",
    "    for i in range(6000):\n",
    "        N[i] = np.append(X[i], [1])\n",
    "    return N\n",
    "\n",
    "def add_dim2(X):\n",
    "    N = np.zeros((6000,13), float)    \n",
    "    #for i in range(len(X)):\n",
    "    for i in range(6000):\n",
    "        N[i] = np.append(X[i], [1])\n",
    "    return N\n",
    "\n",
    "def cost_fn(y, X, w):\n",
    "    var  = 0\n",
    "    X = add_dim(X)\n",
    "    for i in range(len(y)):\n",
    "        dot  = np.dot(X[i], w)\n",
    "        var += -y*np.log(sigmoid(dot)) + (1+y[i])*np.log(1-dot)\n",
    "    return var"
   ]
  },
  {
   "cell_type": "markdown",
   "metadata": {},
   "source": [
    "## Visualizing"
   ]
  }
 ],
 "metadata": {
  "anaconda-cloud": {},
  "kernelspec": {
   "display_name": "Python [conda root]",
   "language": "python",
   "name": "conda-root-py"
  },
  "language_info": {
   "codemirror_mode": {
    "name": "ipython",
    "version": 3
   },
   "file_extension": ".py",
   "mimetype": "text/x-python",
   "name": "python",
   "nbconvert_exporter": "python",
   "pygments_lexer": "ipython3",
   "version": "3.5.2"
  }
 },
 "nbformat": 4,
 "nbformat_minor": 1
}
